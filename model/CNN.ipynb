{
 "cells": [
  {
   "cell_type": "code",
   "execution_count": 1,
   "id": "00eaca4e",
   "metadata": {},
   "outputs": [],
   "source": [
    "import numpy as np\n",
    "\n",
    "data=np.load('data.npy')\n",
    "target=np.load('target.npy')"
   ]
  },
  {
   "cell_type": "code",
   "execution_count": 2,
   "id": "e646f2f0",
   "metadata": {},
   "outputs": [
    {
     "name": "stderr",
     "output_type": "stream",
     "text": [
      "2022-10-17 21:20:38.892677: I tensorflow/core/platform/cpu_feature_guard.cc:193] This TensorFlow binary is optimized with oneAPI Deep Neural Network Library (oneDNN) to use the following CPU instructions in performance-critical operations:  AVX2 FMA\n",
      "To enable them in other operations, rebuild TensorFlow with the appropriate compiler flags.\n",
      "2022-10-17 21:20:39.001382: W tensorflow/stream_executor/platform/default/dso_loader.cc:64] Could not load dynamic library 'libcudart.so.11.0'; dlerror: libcudart.so.11.0: cannot open shared object file: No such file or directory\n",
      "2022-10-17 21:20:39.001395: I tensorflow/stream_executor/cuda/cudart_stub.cc:29] Ignore above cudart dlerror if you do not have a GPU set up on your machine.\n",
      "2022-10-17 21:20:39.019271: E tensorflow/stream_executor/cuda/cuda_blas.cc:2981] Unable to register cuBLAS factory: Attempting to register factory for plugin cuBLAS when one has already been registered\n",
      "2022-10-17 21:20:39.413443: W tensorflow/stream_executor/platform/default/dso_loader.cc:64] Could not load dynamic library 'libnvinfer.so.7'; dlerror: libnvinfer.so.7: cannot open shared object file: No such file or directory\n",
      "2022-10-17 21:20:39.413480: W tensorflow/stream_executor/platform/default/dso_loader.cc:64] Could not load dynamic library 'libnvinfer_plugin.so.7'; dlerror: libnvinfer_plugin.so.7: cannot open shared object file: No such file or directory\n",
      "2022-10-17 21:20:39.413484: W tensorflow/compiler/tf2tensorrt/utils/py_utils.cc:38] TF-TRT Warning: Cannot dlopen some TensorRT libraries. If you would like to use Nvidia GPU with TensorRT, please make sure the missing libraries mentioned above are installed properly.\n"
     ]
    }
   ],
   "source": [
    "from keras.models import Sequential\n",
    "from keras.layers import Dense,Activation,Flatten\n",
    "from keras.layers import Conv2D,MaxPooling2D,Dropout,BatchNormalization"
   ]
  },
  {
   "cell_type": "code",
   "execution_count": 3,
   "id": "c2b91872",
   "metadata": {},
   "outputs": [
    {
     "name": "stdout",
     "output_type": "stream",
     "text": [
      "Model: \"sequential\"\n",
      "_________________________________________________________________\n",
      " Layer (type)                Output Shape              Param #   \n",
      "=================================================================\n",
      " conv2d (Conv2D)             (None, 222, 222, 256)     2560      \n",
      "                                                                 \n",
      " batch_normalization (BatchN  (None, 222, 222, 256)    1024      \n",
      " ormalization)                                                   \n",
      "                                                                 \n",
      " activation (Activation)     (None, 222, 222, 256)     0         \n",
      "                                                                 \n",
      " max_pooling2d (MaxPooling2D  (None, 111, 111, 256)    0         \n",
      " )                                                               \n",
      "                                                                 \n",
      " conv2d_1 (Conv2D)           (None, 109, 109, 128)     295040    \n",
      "                                                                 \n",
      " activation_1 (Activation)   (None, 109, 109, 128)     0         \n",
      "                                                                 \n",
      " max_pooling2d_1 (MaxPooling  (None, 54, 54, 128)      0         \n",
      " 2D)                                                             \n",
      "                                                                 \n",
      " conv2d_2 (Conv2D)           (None, 52, 52, 64)        73792     \n",
      "                                                                 \n",
      " activation_2 (Activation)   (None, 52, 52, 64)        0         \n",
      "                                                                 \n",
      " max_pooling2d_2 (MaxPooling  (None, 26, 26, 64)       0         \n",
      " 2D)                                                             \n",
      "                                                                 \n",
      " flatten (Flatten)           (None, 43264)             0         \n",
      "                                                                 \n",
      " dropout (Dropout)           (None, 43264)             0         \n",
      "                                                                 \n",
      " dense (Dense)               (None, 32)                1384480   \n",
      "                                                                 \n",
      " dense_1 (Dense)             (None, 2)                 66        \n",
      "                                                                 \n",
      "=================================================================\n",
      "Total params: 1,756,962\n",
      "Trainable params: 1,756,450\n",
      "Non-trainable params: 512\n",
      "_________________________________________________________________\n"
     ]
    },
    {
     "name": "stderr",
     "output_type": "stream",
     "text": [
      "2022-10-17 21:20:41.615165: E tensorflow/stream_executor/cuda/cuda_driver.cc:265] failed call to cuInit: CUDA_ERROR_COMPAT_NOT_SUPPORTED_ON_DEVICE: forward compatibility was attempted on non supported HW\n",
      "2022-10-17 21:20:41.615268: I tensorflow/stream_executor/cuda/cuda_diagnostics.cc:169] retrieving CUDA diagnostic information for host: DMNS\n",
      "2022-10-17 21:20:41.615288: I tensorflow/stream_executor/cuda/cuda_diagnostics.cc:176] hostname: DMNS\n",
      "2022-10-17 21:20:41.615523: I tensorflow/stream_executor/cuda/cuda_diagnostics.cc:200] libcuda reported version is: 515.76.0\n",
      "2022-10-17 21:20:41.615598: I tensorflow/stream_executor/cuda/cuda_diagnostics.cc:204] kernel reported version is: 515.65.1\n",
      "2022-10-17 21:20:41.615617: E tensorflow/stream_executor/cuda/cuda_diagnostics.cc:313] kernel version 515.65.1 does not match DSO version 515.76.0 -- cannot find working devices in this configuration\n",
      "2022-10-17 21:20:41.616392: I tensorflow/core/platform/cpu_feature_guard.cc:193] This TensorFlow binary is optimized with oneAPI Deep Neural Network Library (oneDNN) to use the following CPU instructions in performance-critical operations:  AVX2 FMA\n",
      "To enable them in other operations, rebuild TensorFlow with the appropriate compiler flags.\n"
     ]
    }
   ],
   "source": [
    "model=Sequential()\n",
    "\n",
    "model.add(Conv2D(256,(3,3),input_shape=data.shape[1:],kernel_initializer='orthogonal'))\n",
    "model.add(BatchNormalization())\n",
    "model.add(Activation('relu'))\n",
    "model.add(MaxPooling2D(pool_size=(2,2)))\n",
    "\n",
    "model.add(Conv2D(128,(3,3),kernel_initializer='orthogonal'))\n",
    "#model.add(BatchNormalization())\n",
    "model.add(Activation('relu'))\n",
    "model.add(MaxPooling2D(pool_size=(2,2)))\n",
    "\n",
    "model.add(Conv2D(64,(3,3)))\n",
    "#model.add(BatchNormalization())\n",
    "model.add(Activation('relu'))\n",
    "model.add(MaxPooling2D(pool_size=(2,2)))\n",
    "\n",
    "model.add(Flatten())\n",
    "model.add(Dropout(0.5))\n",
    "model.add(Dense(32,activation='relu'))\n",
    "model.add(Dense(2,activation='softmax'))\n",
    "model.compile(loss='categorical_crossentropy',optimizer='adam',metrics=['accuracy'])\n",
    "\n",
    "model.summary()"
   ]
  },
  {
   "cell_type": "code",
   "execution_count": 4,
   "id": "cce5c2bf",
   "metadata": {},
   "outputs": [],
   "source": [
    "from sklearn.model_selection import train_test_split\n",
    "\n",
    "train_data,test_data,train_target,test_target=train_test_split(data,target,test_size=0.1)"
   ]
  },
  {
   "cell_type": "code",
   "execution_count": 5,
   "id": "75db455f",
   "metadata": {},
   "outputs": [],
   "source": [
    "#from keras.callbacks import ModelCheckpoint\n",
    "\n",
    "#checkpoint = ModelCheckpoint('models/model={epoch:03d}.h5',monitor='val_loss', save_best_only=True,mode='auto')"
   ]
  },
  {
   "cell_type": "code",
   "execution_count": 6,
   "id": "3d0bc295",
   "metadata": {},
   "outputs": [
    {
     "name": "stdout",
     "output_type": "stream",
     "text": [
      "Epoch 1/10\n"
     ]
    },
    {
     "name": "stderr",
     "output_type": "stream",
     "text": [
      "2022-10-17 21:20:56.571679: W tensorflow/core/framework/cpu_allocator_impl.cc:82] Allocation of 1614938112 exceeds 10% of free system memory.\n",
      "2022-10-17 21:20:56.890187: W tensorflow/core/framework/cpu_allocator_impl.cc:82] Allocation of 1614938112 exceeds 10% of free system memory.\n",
      "2022-10-17 21:20:59.931369: W tensorflow/core/framework/cpu_allocator_impl.cc:82] Allocation of 1614938112 exceeds 10% of free system memory.\n",
      "2022-10-17 21:21:00.649565: W tensorflow/core/framework/cpu_allocator_impl.cc:82] Allocation of 1614938112 exceeds 10% of free system memory.\n"
     ]
    },
    {
     "name": "stdout",
     "output_type": "stream",
     "text": [
      "\r",
      " 1/21 [>.............................] - ETA: 1:51 - loss: 0.6862 - accuracy: 0.6250"
     ]
    },
    {
     "name": "stderr",
     "output_type": "stream",
     "text": [
      "2022-10-17 21:21:01.758976: W tensorflow/core/framework/cpu_allocator_impl.cc:82] Allocation of 1614938112 exceeds 10% of free system memory.\n"
     ]
    },
    {
     "name": "stdout",
     "output_type": "stream",
     "text": [
      "21/21 [==============================] - 115s 5s/step - loss: 1.6383 - accuracy: 0.6877 - val_loss: 0.6936 - val_accuracy: 0.2533\n",
      "Epoch 2/10\n",
      "21/21 [==============================] - 120s 6s/step - loss: 0.3405 - accuracy: 0.8198 - val_loss: 0.6938 - val_accuracy: 0.2533\n",
      "Epoch 3/10\n",
      "21/21 [==============================] - 118s 6s/step - loss: 0.1638 - accuracy: 0.9414 - val_loss: 0.6840 - val_accuracy: 0.8267\n",
      "Epoch 4/10\n",
      "21/21 [==============================] - 119s 6s/step - loss: 0.1370 - accuracy: 0.9489 - val_loss: 0.6934 - val_accuracy: 0.3467\n",
      "Epoch 5/10\n",
      "21/21 [==============================] - 120s 6s/step - loss: 0.0554 - accuracy: 0.9805 - val_loss: 0.6810 - val_accuracy: 0.8267\n",
      "Epoch 6/10\n",
      "21/21 [==============================] - 119s 6s/step - loss: 0.0175 - accuracy: 0.9970 - val_loss: 0.6520 - val_accuracy: 0.9200\n",
      "Epoch 7/10\n",
      "21/21 [==============================] - 118s 6s/step - loss: 0.0096 - accuracy: 0.9970 - val_loss: 0.6119 - val_accuracy: 0.9333\n",
      "Epoch 8/10\n",
      "21/21 [==============================] - 117s 6s/step - loss: 0.0174 - accuracy: 0.9940 - val_loss: 0.5877 - val_accuracy: 0.8800\n",
      "Epoch 9/10\n",
      "21/21 [==============================] - 117s 6s/step - loss: 0.0060 - accuracy: 1.0000 - val_loss: 0.5236 - val_accuracy: 0.9333\n",
      "Epoch 10/10\n",
      "21/21 [==============================] - 115s 6s/step - loss: 0.0106 - accuracy: 0.9955 - val_loss: 0.4648 - val_accuracy: 0.9600\n"
     ]
    }
   ],
   "source": [
    "\n",
    "#history= model.fit(train_data,train_target,validation_data=(test_data,test_target),epochs=10,callbacks=[checkpoint])\n",
    "history= model.fit(train_data,train_target,validation_data=(test_data,test_target),epochs=10)"
   ]
  },
  {
   "cell_type": "code",
   "execution_count": 12,
   "id": "a211341c",
   "metadata": {},
   "outputs": [],
   "source": [
    "import os\n",
    "import tensorflow as tf\n",
    "from tensorflow import keras\n",
    "tf.keras.models.save_model(model,'Model.h5')"
   ]
  },
  {
   "cell_type": "code",
   "execution_count": 13,
   "id": "14b7270d",
   "metadata": {},
   "outputs": [],
   "source": [
    "model.save('model1.h5')"
   ]
  },
  {
   "cell_type": "code",
   "execution_count": 15,
   "id": "ec1b26a2",
   "metadata": {},
   "outputs": [],
   "source": [
    "from keras.models import model_from_json\n",
    "# serialize model to json\n",
    "json_model = model.to_json()\n",
    "#save the model architecture to JSON file\n",
    "with open('fashionmnist_model.json', 'w') as json_file:\n",
    "    json_file.write(json_model)\n",
    "#saving the weights of the model\n",
    "model.save_weights('FashionMNIST_weights.h5')\n",
    "#Model loss and accuracy\n",
    "#loss,acc = model.evaluate(test_images,  test_labels, verbose=2)"
   ]
  },
  {
   "cell_type": "code",
   "execution_count": 16,
   "id": "ab13316a",
   "metadata": {},
   "outputs": [
    {
     "name": "stdout",
     "output_type": "stream",
     "text": [
      "Model: \"sequential\"\n",
      "_________________________________________________________________\n",
      " Layer (type)                Output Shape              Param #   \n",
      "=================================================================\n",
      " conv2d (Conv2D)             (None, 222, 222, 256)     2560      \n",
      "                                                                 \n",
      " batch_normalization (BatchN  (None, 222, 222, 256)    1024      \n",
      " ormalization)                                                   \n",
      "                                                                 \n",
      " activation (Activation)     (None, 222, 222, 256)     0         \n",
      "                                                                 \n",
      " max_pooling2d (MaxPooling2D  (None, 111, 111, 256)    0         \n",
      " )                                                               \n",
      "                                                                 \n",
      " conv2d_1 (Conv2D)           (None, 109, 109, 128)     295040    \n",
      "                                                                 \n",
      " activation_1 (Activation)   (None, 109, 109, 128)     0         \n",
      "                                                                 \n",
      " max_pooling2d_1 (MaxPooling  (None, 54, 54, 128)      0         \n",
      " 2D)                                                             \n",
      "                                                                 \n",
      " conv2d_2 (Conv2D)           (None, 52, 52, 64)        73792     \n",
      "                                                                 \n",
      " activation_2 (Activation)   (None, 52, 52, 64)        0         \n",
      "                                                                 \n",
      " max_pooling2d_2 (MaxPooling  (None, 26, 26, 64)       0         \n",
      " 2D)                                                             \n",
      "                                                                 \n",
      " flatten (Flatten)           (None, 43264)             0         \n",
      "                                                                 \n",
      " dropout (Dropout)           (None, 43264)             0         \n",
      "                                                                 \n",
      " dense (Dense)               (None, 32)                1384480   \n",
      "                                                                 \n",
      " dense_1 (Dense)             (None, 2)                 66        \n",
      "                                                                 \n",
      "=================================================================\n",
      "Total params: 1,756,962\n",
      "Trainable params: 1,756,450\n",
      "Non-trainable params: 512\n",
      "_________________________________________________________________\n"
     ]
    }
   ],
   "source": [
    "from keras.initializers import glorot_uniform\n",
    "#Reading the model from JSON file\n",
    "with open('fashionmnist_model.json', 'r') as json_file:\n",
    "    json_savedModel= json_file.read()\n",
    "#load the model architecture \n",
    "model_j = tf.keras.models.model_from_json(json_savedModel)\n",
    "model_j.summary()"
   ]
  },
  {
   "cell_type": "code",
   "execution_count": null,
   "id": "7991ea81",
   "metadata": {},
   "outputs": [],
   "source": []
  },
  {
   "cell_type": "code",
   "execution_count": 17,
   "id": "f6e691c1",
   "metadata": {},
   "outputs": [
    {
     "data": {
      "text/plain": [
       "[<matplotlib.lines.Line2D at 0x7f99e0c0fa30>]"
      ]
     },
     "execution_count": 17,
     "metadata": {},
     "output_type": "execute_result"
    },
    {
     "data": {
      "image/png": "[encoded data removed]",
      "text/plain": [
       "<Figure size 432x288 with 1 Axes>"
      ]
     },
     "metadata": {
      "needs_background": "light"
     },
     "output_type": "display_data"
    }
   ],
   "source": [
    "from matplotlib import pyplot as plt\n",
    "\n",
    "plt.plot(history.history['loss'])\n",
    "plt.plot(history.history['val_loss'])"
   ]
  },
  {
   "cell_type": "code",
   "execution_count": 18,
   "id": "0199c4c9",
   "metadata": {},
   "outputs": [
    {
     "data": {
      "text/plain": [
       "[<matplotlib.lines.Line2D at 0x7f99e03743a0>]"
      ]
     },
     "execution_count": 18,
     "metadata": {},
     "output_type": "execute_result"
    },
    {
     "data": {
      "image/png": "[encoded data removed]",
      "text/plain": [
       "<Figure size 432x288 with 1 Axes>"
      ]
     },
     "metadata": {
      "needs_background": "light"
     },
     "output_type": "display_data"
    }
   ],
   "source": [
    "plt.plot(history.history['accuracy'])\n",
    "plt.plot(history.history['val_accuracy'])"
   ]
  },
  {
   "cell_type": "code",
   "execution_count": 7,
   "id": "69c5073c",
   "metadata": {},
   "outputs": [],
   "source": [
    "model.save('CNNM.h5')"
   ]
  },
  {
   "cell_type": "code",
   "execution_count": null,
   "id": "0aa10dd9",
   "metadata": {},
   "outputs": [],
   "source": []
  }
 ],
 "metadata": {
  "kernelspec": {
   "display_name": "Python 3 (ipykernel)",
   "language": "python",
   "name": "python3"
  },
  "language_info": {
   "codemirror_mode": {
    "name": "ipython",
    "version": 3
   },
   "file_extension": ".py",
   "mimetype": "text/x-python",
   "name": "python",
   "nbconvert_exporter": "python",
   "pygments_lexer": "ipython3",
   "version": "3.9.12"
  }
 },
 "nbformat": 4,
 "nbformat_minor": 5
}
